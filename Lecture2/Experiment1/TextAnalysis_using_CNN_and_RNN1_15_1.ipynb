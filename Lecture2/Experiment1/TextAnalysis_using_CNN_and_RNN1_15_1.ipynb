{
  "metadata": {
    "kernelspec": {
      "display_name": "Python 3",
      "name": "python3"
    },
    "language_info": {
      "pygments_lexer": "ipython3",
      "nbconvert_exporter": "python",
      "version": "3.6.4",
      "file_extension": ".py",
      "codemirror_mode": {
        "name": "ipython",
        "version": 3
      },
      "name": "python",
      "mimetype": "text/x-python"
    },
    "colab": {
      "provenance": [],
      "gpuType": "T4"
    },
    "accelerator": "GPU"
  },
  "nbformat_minor": 0,
  "nbformat": 4,
  "cells": [
    {
      "cell_type": "code",
      "source": [
        "#Import the required libraries\n",
        "import numpy as np\n",
        "import pandas as pd\n",
        "from sklearn.model_selection import train_test_split\n",
        "from tensorflow.keras.models import Sequential\n",
        "from tensorflow.keras.layers import Embedding, Bidirectional, GRU, Conv1D, GlobalMaxPooling1D, Dense, Dropout , LSTM,SimpleRNN\n",
        "from tensorflow.keras.optimizers import Adam\n",
        "from tensorflow.keras.callbacks import EarlyStopping\n",
        "from tensorflow.keras.preprocessing.text import Tokenizer\n",
        "from tensorflow.keras.preprocessing.sequence import pad_sequences\n",
        "import nltk\n",
        "import os\n",
        "import warnings\n",
        "import matplotlib.pyplot as plt\n",
        "import seaborn as sns\n",
        "import gensim\n",
        "from gensim.models import Word2Vec\n",
        "from gensim.models import KeyedVectors\n",
        "import tensorflow as tf\n",
        "import re\n",
        "import pandas as pd\n",
        "import numpy as np\n",
        "from sklearn.model_selection import train_test_split\n",
        "from tensorflow.keras.preprocessing.text import Tokenizer\n",
        "from tensorflow.keras.preprocessing.sequence import pad_sequences\n",
        "from tensorflow.keras.models import Sequential\n",
        "from tensorflow.keras.layers import Dense, Embedding, Bidirectional, GRU, Conv1D, MaxPooling1D, Dropout, GlobalMaxPooling1D\n",
        "from tensorflow.keras.optimizers import Adam\n",
        "from tensorflow.keras.regularizers import l2\n",
        "from tensorflow.keras.callbacks import EarlyStopping\n",
        "from nltk.corpus import stopwords\n",
        "from nltk.tokenize import word_tokenize\n",
        "import nltk\n",
        "from tensorflow.keras.optimizers import legacy\n"
      ],
      "metadata": {
        "execution": {
          "iopub.status.busy": "2023-05-10T07:42:14.817167Z",
          "iopub.execute_input": "2023-05-10T07:42:14.817835Z",
          "iopub.status.idle": "2023-05-10T07:42:27.101431Z",
          "shell.execute_reply.started": "2023-05-10T07:42:14.817790Z",
          "shell.execute_reply": "2023-05-10T07:42:27.100161Z"
        },
        "trusted": true,
        "id": "1RyG8-yogorn"
      },
      "execution_count": 1,
      "outputs": []
    },
    {
      "cell_type": "code",
      "source": [
        "print(tf.test.gpu_device_name())\n"
      ],
      "metadata": {
        "execution": {
          "iopub.status.busy": "2023-05-10T07:26:28.081672Z",
          "iopub.execute_input": "2023-05-10T07:26:28.083210Z",
          "iopub.status.idle": "2023-05-10T07:26:30.224387Z",
          "shell.execute_reply.started": "2023-05-10T07:26:28.083153Z",
          "shell.execute_reply": "2023-05-10T07:26:30.223069Z"
        },
        "trusted": true,
        "colab": {
          "base_uri": "https://localhost:8080/"
        },
        "id": "UPdxgvRvgoro",
        "outputId": "ee06c555-17e9-4f46-a874-58f9c9de03e6"
      },
      "execution_count": null,
      "outputs": [
        {
          "output_type": "stream",
          "name": "stdout",
          "text": [
            "/device:GPU:0\n"
          ]
        }
      ]
    },
    {
      "cell_type": "code",
      "source": [
        "imdb = pd.read_csv(\"/content/IMDB Dataset.csv\")"
      ],
      "metadata": {
        "execution": {
          "iopub.status.busy": "2023-05-10T07:26:40.911639Z",
          "iopub.execute_input": "2023-05-10T07:26:40.912364Z",
          "iopub.status.idle": "2023-05-10T07:26:42.312815Z",
          "shell.execute_reply.started": "2023-05-10T07:26:40.912323Z",
          "shell.execute_reply": "2023-05-10T07:26:42.311729Z"
        },
        "trusted": true,
        "id": "NiVLyQ0ogorq"
      },
      "execution_count": 2,
      "outputs": []
    },
    {
      "cell_type": "code",
      "source": [
        "imdb.drop_duplicates(inplace=True)"
      ],
      "metadata": {
        "execution": {
          "iopub.status.busy": "2023-05-10T07:26:42.687468Z",
          "iopub.execute_input": "2023-05-10T07:26:42.687899Z",
          "iopub.status.idle": "2023-05-10T07:26:42.867740Z",
          "shell.execute_reply.started": "2023-05-10T07:26:42.687861Z",
          "shell.execute_reply": "2023-05-10T07:26:42.866738Z"
        },
        "trusted": true,
        "id": "boGsG8SNgorr"
      },
      "execution_count": 3,
      "outputs": []
    },
    {
      "cell_type": "code",
      "source": [
        "nltk.download('stopwords')\n",
        "nltk.download('punkt')\n"
      ],
      "metadata": {
        "execution": {
          "iopub.status.busy": "2023-05-10T07:26:43.039703Z",
          "iopub.execute_input": "2023-05-10T07:26:43.040067Z",
          "iopub.status.idle": "2023-05-10T07:26:43.191244Z",
          "shell.execute_reply.started": "2023-05-10T07:26:43.040034Z",
          "shell.execute_reply": "2023-05-10T07:26:43.190158Z"
        },
        "trusted": true,
        "colab": {
          "base_uri": "https://localhost:8080/"
        },
        "id": "HAoJqUVugors",
        "outputId": "e7d4e528-a508-4ecc-8676-0e7d72e60e5d"
      },
      "execution_count": 4,
      "outputs": [
        {
          "output_type": "stream",
          "name": "stderr",
          "text": [
            "[nltk_data] Downloading package stopwords to /root/nltk_data...\n",
            "[nltk_data]   Unzipping corpora/stopwords.zip.\n",
            "[nltk_data] Downloading package punkt to /root/nltk_data...\n",
            "[nltk_data]   Unzipping tokenizers/punkt.zip.\n"
          ]
        },
        {
          "output_type": "execute_result",
          "data": {
            "text/plain": [
              "True"
            ]
          },
          "metadata": {},
          "execution_count": 4
        }
      ]
    },
    {
      "cell_type": "code",
      "source": [
        "texts = imdb['review'].values\n",
        "print(texts)\n",
        "labels = imdb['sentiment'].values\n",
        "print(labels)"
      ],
      "metadata": {
        "execution": {
          "iopub.status.busy": "2023-05-10T07:26:44.926490Z",
          "iopub.execute_input": "2023-05-10T07:26:44.927230Z",
          "iopub.status.idle": "2023-05-10T07:26:44.932426Z",
          "shell.execute_reply.started": "2023-05-10T07:26:44.927189Z",
          "shell.execute_reply": "2023-05-10T07:26:44.931166Z"
        },
        "trusted": true,
        "id": "RTXjyWiFgort",
        "colab": {
          "base_uri": "https://localhost:8080/"
        },
        "outputId": "8a6d5756-60fd-4ba9-c79a-2aee088562dd"
      },
      "execution_count": 5,
      "outputs": [
        {
          "output_type": "stream",
          "name": "stdout",
          "text": [
            "[\"One of the other reviewers has mentioned that after watching just 1 Oz episode you'll be hooked. They are right, as this is exactly what happened with me.<br /><br />The first thing that struck me about Oz was its brutality and unflinching scenes of violence, which set in right from the word GO. Trust me, this is not a show for the faint hearted or timid. This show pulls no punches with regards to drugs, sex or violence. Its is hardcore, in the classic use of the word.<br /><br />It is called OZ as that is the nickname given to the Oswald Maximum Security State Penitentary. It focuses mainly on Emerald City, an experimental section of the prison where all the cells have glass fronts and face inwards, so privacy is not high on the agenda. Em City is home to many..Aryans, Muslims, gangstas, Latinos, Christians, Italians, Irish and more....so scuffles, death stares, dodgy dealings and shady agreements are never far away.<br /><br />I would say the main appeal of the show is due to the fact that it goes where other shows wouldn't dare. Forget pretty pictures painted for mainstream audiences, forget charm, forget romance...OZ doesn't mess around. The first episode I ever saw struck me as so nasty it was surreal, I couldn't say I was ready for it, but as I watched more, I developed a taste for Oz, and got accustomed to the high levels of graphic violence. Not just violence, but injustice (crooked guards who'll be sold out for a nickel, inmates who'll kill on order and get away with it, well mannered, middle class inmates being turned into prison bitches due to their lack of street skills or prison experience) Watching Oz, you may become comfortable with what is uncomfortable viewing....thats if you can get in touch with your darker side.\"\n",
            " 'A wonderful little production. <br /><br />The filming technique is very unassuming- very old-time-BBC fashion and gives a comforting, and sometimes discomforting, sense of realism to the entire piece. <br /><br />The actors are extremely well chosen- Michael Sheen not only \"has got all the polari\" but he has all the voices down pat too! You can truly see the seamless editing guided by the references to Williams\\' diary entries, not only is it well worth the watching but it is a terrificly written and performed piece. A masterful production about one of the great master\\'s of comedy and his life. <br /><br />The realism really comes home with the little things: the fantasy of the guard which, rather than use the traditional \\'dream\\' techniques remains solid then disappears. It plays on our knowledge and our senses, particularly with the scenes concerning Orton and Halliwell and the sets (particularly of their flat with Halliwell\\'s murals decorating every surface) are terribly well done.'\n",
            " 'I thought this was a wonderful way to spend time on a too hot summer weekend, sitting in the air conditioned theater and watching a light-hearted comedy. The plot is simplistic, but the dialogue is witty and the characters are likable (even the well bread suspected serial killer). While some may be disappointed when they realize this is not Match Point 2: Risk Addiction, I thought it was proof that Woody Allen is still fully in control of the style many of us have grown to love.<br /><br />This was the most I\\'d laughed at one of Woody\\'s comedies in years (dare I say a decade?). While I\\'ve never been impressed with Scarlet Johanson, in this she managed to tone down her \"sexy\" image and jumped right into a average, but spirited young woman.<br /><br />This may not be the crown jewel of his career, but it was wittier than \"Devil Wears Prada\" and more interesting than \"Superman\" a great comedy to go see with friends.'\n",
            " ...\n",
            " 'I am a Catholic taught in parochial elementary schools by nuns, taught by Jesuit priests in high school & college. I am still a practicing Catholic but would not be considered a \"good Catholic\" in the church\\'s eyes because I don\\'t believe certain things or act certain ways just because the church tells me to.<br /><br />So back to the movie...its bad because two people are killed by this nun who is supposed to be a satire as the embodiment of a female religious figurehead. There is no comedy in that and the satire is not done well by the over acting of Diane Keaton. I never saw the play but if it was very different from this movies then it may be good.<br /><br />At first I thought the gun might be a fake and the first shooting all a plan by the female lead of the four former students as an attempt to demonstrate Sister Mary\\'s emotional and intellectual bigotry of faith. But it turns out the bullets were real and the story has tragedy...the tragedy of loss of life (besides the two former students...the lives of the aborted babies, the life of the student\\'s mom), the tragedy of dogmatic authority over love of people, the tragedy of organized religion replacing true faith in God. This is what is wrong with today\\'s Islam, and yesterday\\'s Judaism and Christianity.'\n",
            " 'I\\'m going to have to disagree with the previous comment and side with Maltin on this one. This is a second rate, excessively vicious Western that creaks and groans trying to put across its central theme of the Wild West being tamed and kicked aside by the steady march of time. It would like to be in the tradition of \"Butch Cassidy and the Sundance Kid\", but lacks that film\\'s poignancy and charm. Andrew McLaglen\\'s direction is limp, and the final 30 minutes or so are a real botch, with some incomprehensible strategy on the part of heroes Charlton Heston and Chris Mitchum. (Someone give me a holler if you can explain to me why they set that hillside on fire.) There was something callous about the whole treatment of the rape scene, and the woman\\'s reaction afterwards certainly did not ring true. Coburn is plenty nasty as the half breed escaped convict out for revenge, but all of his fellow escapees are underdeveloped (they\\'re like bowling pins to be knocked down one by one as the story lurches forward). Michael Parks gives one of his typically shifty, lethargic, mumbling performances, but in this case it was appropriate as his modern style sheriff symbolizes the complacency that technological progress can bring about.'\n",
            " \"No one expects the Star Trek movies to be high art, but the fans do expect a movie that is as good as some of the best episodes. Unfortunately, this movie had a muddled, implausible plot that just left me cringing - this is by far the worst of the nine (so far) movies. Even the chance to watch the well known characters interact in another movie can't save this movie - including the goofy scenes with Kirk, Spock and McCoy at Yosemite.<br /><br />I would say this movie is not worth a rental, and hardly worth watching, however for the True Fan who needs to see all the movies, renting this movie is about the only way you'll see it - even the cable channels avoid this movie.\"]\n",
            "['positive' 'positive' 'positive' ... 'negative' 'negative' 'negative']\n"
          ]
        }
      ]
    },
    {
      "cell_type": "code",
      "source": [
        "# Preprocess the reviews\n",
        "stop_words = set(stopwords.words('english'))\n",
        "processed_texts = []\n",
        "\n",
        "for text in texts:\n",
        "    # Remove HTML tags\n",
        "    text = re.sub(r'<.*?>', '', text)\n",
        "\n",
        "    # Remove special characters, URLs, and email addresses\n",
        "    text = re.sub(r\"[^a-zA-Z0-9]+\", ' ', text)\n",
        "    text = re.sub(r'http\\S+', '', text)\n",
        "    text = re.sub(r'\\S+@\\S+', '', text)\n",
        "\n",
        "    # Remove numbers\n",
        "    text = re.sub(r\"\\d+\", \"\", text)\n",
        "\n",
        "    # Convert to lower case and tokenize\n",
        "    text = word_tokenize(text.lower())\n",
        "\n",
        "    # Remove stop words\n",
        "    text = [word for word in text if not word in stop_words]\n",
        "\n",
        "    # Remove repeated characters and single characters\n",
        "    processed_text = []\n",
        "\n",
        "    for word in text:\n",
        "        word = re.sub(r'\\b(\\w*?)(\\w)\\2+(\\w*?\\b|\\b)', r'\\1\\2\\3', word)\n",
        "        if len(word) > 1:\n",
        "            processed_text.append(word)\n",
        "    processed_texts.append(' '.join(processed_text))\n"
      ],
      "metadata": {
        "execution": {
          "iopub.status.busy": "2023-05-10T07:26:45.454743Z",
          "iopub.execute_input": "2023-05-10T07:26:45.455121Z",
          "iopub.status.idle": "2023-05-10T07:28:52.586321Z",
          "shell.execute_reply.started": "2023-05-10T07:26:45.455088Z",
          "shell.execute_reply": "2023-05-10T07:28:52.585246Z"
        },
        "trusted": true,
        "id": "6Thddkmggoru"
      },
      "execution_count": 6,
      "outputs": []
    },
    {
      "cell_type": "code",
      "source": [
        "print(processed_texts[0])"
      ],
      "metadata": {
        "colab": {
          "base_uri": "https://localhost:8080/"
        },
        "id": "ngoOP5Me9sZq",
        "outputId": "97016ddf-6569-449e-a736-675c990f2212"
      },
      "execution_count": null,
      "outputs": [
        {
          "output_type": "stream",
          "name": "stdout",
          "text": [
            "one reviewers mentioned watching oz episode hoked right exactly hapened first thing struck oz brutality unflinching scenes violence set right word go trust show faint hearted timid show puls punches regards drugs sex violence hardcore clasic use word caled oz nickname given oswald maximum security state penitentary focuses mainly emerald city experimental section prison cels glas fronts face inwards privacy high agenda em city home many aryans muslims gangstas latinos christians italians irish scufles death stares dodgy dealings shady agrements never far away would say main apeal show due fact goes shows dare forget prety pictures painted mainstream audiences forget charm forget romance oz mes around first episode ever saw struck nasty sureal say ready watched developed taste oz got acustomed high levels graphic violence violence injustice croked guards sold nickel inmates kil order get away wel manered midle clas inmates turned prison bitches due lack stret skils prison experience watching oz may become comfortable uncomfortable viewing thats get touch darker side\n"
          ]
        }
      ]
    },
    {
      "cell_type": "code",
      "source": [
        "max_words = 10000\n",
        "max_length = 500\n",
        "tokenizer = Tokenizer(num_words=max_words)\n",
        "tokenizer.fit_on_texts(processed_texts)\n",
        "sequences = tokenizer.texts_to_sequences(processed_texts)\n",
        "X = pad_sequences(sequences, maxlen=max_length)\n",
        "y = np.array(imdb['sentiment'].map({'positive': 1, 'negative': 0}))"
      ],
      "metadata": {
        "execution": {
          "iopub.status.busy": "2023-05-10T07:28:52.588663Z",
          "iopub.execute_input": "2023-05-10T07:28:52.589071Z",
          "iopub.status.idle": "2023-05-10T07:29:02.734872Z",
          "shell.execute_reply.started": "2023-05-10T07:28:52.589031Z",
          "shell.execute_reply": "2023-05-10T07:29:02.733743Z"
        },
        "trusted": true,
        "id": "97CMOejRgorv"
      },
      "execution_count": 8,
      "outputs": []
    },
    {
      "cell_type": "code",
      "source": [
        "# Split the data into training and testing sets\n",
        "X_train, X_test, y_train, y_test = train_test_split(X, y, test_size=0.2, random_state=42)"
      ],
      "metadata": {
        "execution": {
          "iopub.status.busy": "2023-05-10T07:29:02.736622Z",
          "iopub.execute_input": "2023-05-10T07:29:02.737076Z",
          "iopub.status.idle": "2023-05-10T07:29:02.782055Z",
          "shell.execute_reply.started": "2023-05-10T07:29:02.737031Z",
          "shell.execute_reply": "2023-05-10T07:29:02.780952Z"
        },
        "trusted": true,
        "id": "SaaPGA1xgorv"
      },
      "execution_count": 9,
      "outputs": []
    },
    {
      "cell_type": "code",
      "source": [
        "print(X_train.shape)\n",
        "print(X_test.shape)\n",
        "print(y_train.shape)\n",
        "print(y_test.shape)\n",
        "print(X_train)\n",
        "print(X_test)"
      ],
      "metadata": {
        "colab": {
          "base_uri": "https://localhost:8080/"
        },
        "id": "Dq-O0IGG8YAi",
        "outputId": "591695b6-3157-4d87-d43a-d84407531e22"
      },
      "execution_count": 10,
      "outputs": [
        {
          "output_type": "stream",
          "name": "stdout",
          "text": [
            "(39665, 500)\n",
            "(9917, 500)\n",
            "(39665,)\n",
            "(9917,)\n",
            "[[   0    0    0 ...  228  228   98]\n",
            " [   0    0    0 ... 3104 4172 2553]\n",
            " [   0    0    0 ... 2285  992 2912]\n",
            " ...\n",
            " [   0    0    0 ...   77    1  289]\n",
            " [   0    0    0 ...  133   27 7156]\n",
            " [   0    0    0 ... 1552 1548 2676]]\n",
            "[[   0    0    0 ... 2958 5435  713]\n",
            " [   0    0    0 ...   24    4    3]\n",
            " [   0    0    0 ... 2158 3789 2621]\n",
            " ...\n",
            " [   0    0    0 ... 7188 1946  862]\n",
            " [   0    0    0 ... 1640  150  201]\n",
            " [   0    0    0 ...  406   18  526]]\n"
          ]
        }
      ]
    },
    {
      "cell_type": "code",
      "source": [
        "with tf.device('/GPU:0'):\n",
        "\n",
        "    # Build the neural network\n",
        "    model = Sequential([\n",
        "        Embedding(input_dim=10000, output_dim=128, input_length=500),\n",
        "        Conv1D(128, 5, activation='relu'),\n",
        "        Conv1D(128, 5, activation='relu'),\n",
        "        GlobalMaxPooling1D(),\n",
        "        Dense(128, activation='relu'),\n",
        "        Dropout(0.5),\n",
        "        Dense(1, activation='sigmoid')])\n",
        "\n",
        "# Compile the model\n",
        "    optimizer = Adam(learning_rate=0.001)\n",
        "    model.compile(loss='binary_crossentropy', optimizer=optimizer, metrics=['accuracy'])\n",
        "    model.summary()\n",
        "    # Train the model\n",
        "    early_stopping = EarlyStopping(patience=3)\n",
        "    model.fit(X_train, y_train, epochs=20,validation_split=0.1,  batch_size=128, callbacks=[early_stopping])\n",
        "    _, accuracy = model.evaluate(X_test, y_test)\n",
        "    print(f\"Test accuracy: {accuracy}\")\n"
      ],
      "metadata": {
        "execution": {
          "iopub.status.busy": "2023-05-10T07:53:28.853462Z",
          "iopub.execute_input": "2023-05-10T07:53:28.853999Z",
          "iopub.status.idle": "2023-05-10T11:32:31.215463Z",
          "shell.execute_reply.started": "2023-05-10T07:53:28.853959Z",
          "shell.execute_reply": "2023-05-10T11:32:31.214223Z"
        },
        "trusted": true,
        "colab": {
          "base_uri": "https://localhost:8080/"
        },
        "id": "oheeFTmSgorx",
        "outputId": "c9243c00-6b41-4392-b762-bb2f8775ba7c"
      },
      "execution_count": 11,
      "outputs": [
        {
          "output_type": "stream",
          "name": "stdout",
          "text": [
            "Model: \"sequential_1\"\n",
            "_________________________________________________________________\n",
            " Layer (type)                Output Shape              Param #   \n",
            "=================================================================\n",
            " embedding_1 (Embedding)     (None, 500, 128)          1280000   \n",
            "                                                                 \n",
            " conv1d_2 (Conv1D)           (None, 496, 128)          82048     \n",
            "                                                                 \n",
            " conv1d_3 (Conv1D)           (None, 492, 128)          82048     \n",
            "                                                                 \n",
            " global_max_pooling1d_1 (Gl  (None, 128)               0         \n",
            " obalMaxPooling1D)                                               \n",
            "                                                                 \n",
            " dense_2 (Dense)             (None, 128)               16512     \n",
            "                                                                 \n",
            " dropout_1 (Dropout)         (None, 128)               0         \n",
            "                                                                 \n",
            " dense_3 (Dense)             (None, 1)                 129       \n",
            "                                                                 \n",
            "=================================================================\n",
            "Total params: 1460737 (5.57 MB)\n",
            "Trainable params: 1460737 (5.57 MB)\n",
            "Non-trainable params: 0 (0.00 Byte)\n",
            "_________________________________________________________________\n",
            "Epoch 1/20\n",
            "279/279 [==============================] - 33s 100ms/step - loss: 0.4385 - accuracy: 0.7780 - val_loss: 0.2955 - val_accuracy: 0.8770\n",
            "Epoch 2/20\n",
            "279/279 [==============================] - 20s 72ms/step - loss: 0.2331 - accuracy: 0.9103 - val_loss: 0.2872 - val_accuracy: 0.8793\n",
            "Epoch 3/20\n",
            "279/279 [==============================] - 15s 53ms/step - loss: 0.1270 - accuracy: 0.9555 - val_loss: 0.3485 - val_accuracy: 0.8730\n",
            "Epoch 4/20\n",
            "279/279 [==============================] - 13s 46ms/step - loss: 0.0536 - accuracy: 0.9827 - val_loss: 0.4437 - val_accuracy: 0.8724\n",
            "Epoch 5/20\n",
            "279/279 [==============================] - 11s 38ms/step - loss: 0.0231 - accuracy: 0.9926 - val_loss: 0.5858 - val_accuracy: 0.8702\n",
            "310/310 [==============================] - 1s 4ms/step - loss: 0.6088 - accuracy: 0.8641\n",
            "Test accuracy: 0.864071786403656\n"
          ]
        }
      ]
    },
    {
      "cell_type": "code",
      "source": [
        "with tf.device('/GPU:0'):\n",
        "\n",
        "    # Build the neural network\n",
        "    model = Sequential([\n",
        "        Embedding(input_dim=10000, output_dim=128, input_length=500),\n",
        "        SimpleRNN(128, return_sequences=True, dropout=0.2, recurrent_dropout=0.2),\n",
        "        GlobalMaxPooling1D(),\n",
        "        Dense(128, activation='relu'),\n",
        "        Dropout(0.5),\n",
        "        Dense(1, activation='sigmoid')])\n",
        "\n",
        "# Compile the model\n",
        "    optimizer = Adam(learning_rate=0.001)\n",
        "    model.compile(loss='binary_crossentropy', optimizer=optimizer, metrics=['accuracy'])\n",
        "    model.summary()\n",
        "    # Train the model\n",
        "    early_stopping = EarlyStopping(patience=3)\n",
        "    model.fit(X_train, y_train, epochs=20, batch_size=128, validation_split=0.1, callbacks=[early_stopping])\n",
        "    _, accuracy = model.evaluate(X_test, y_test)\n",
        "    print(f\"Test accuracy: {accuracy}\")\n",
        "    model.predict(X_test)"
      ],
      "metadata": {
        "id": "QS1p_cwP4F6x",
        "colab": {
          "base_uri": "https://localhost:8080/"
        },
        "outputId": "5c59e995-b1c1-4498-ff4e-c0c2c43748e3"
      },
      "execution_count": 12,
      "outputs": [
        {
          "output_type": "stream",
          "name": "stdout",
          "text": [
            "Model: \"sequential_2\"\n",
            "_________________________________________________________________\n",
            " Layer (type)                Output Shape              Param #   \n",
            "=================================================================\n",
            " embedding_2 (Embedding)     (None, 500, 128)          1280000   \n",
            "                                                                 \n",
            " simple_rnn (SimpleRNN)      (None, 500, 128)          32896     \n",
            "                                                                 \n",
            " global_max_pooling1d_2 (Gl  (None, 128)               0         \n",
            " obalMaxPooling1D)                                               \n",
            "                                                                 \n",
            " dense_4 (Dense)             (None, 128)               16512     \n",
            "                                                                 \n",
            " dropout_2 (Dropout)         (None, 128)               0         \n",
            "                                                                 \n",
            " dense_5 (Dense)             (None, 1)                 129       \n",
            "                                                                 \n",
            "=================================================================\n",
            "Total params: 1329537 (5.07 MB)\n",
            "Trainable params: 1329537 (5.07 MB)\n",
            "Non-trainable params: 0 (0.00 Byte)\n",
            "_________________________________________________________________\n",
            "Epoch 1/20\n",
            "279/279 [==============================] - 204s 724ms/step - loss: 0.6968 - accuracy: 0.4954 - val_loss: 0.6934 - val_accuracy: 0.4863\n",
            "Epoch 2/20\n",
            "279/279 [==============================] - 194s 695ms/step - loss: 0.6931 - accuracy: 0.5037 - val_loss: 0.6936 - val_accuracy: 0.4845\n",
            "Epoch 3/20\n",
            "279/279 [==============================] - 209s 750ms/step - loss: 0.6931 - accuracy: 0.5037 - val_loss: 0.6935 - val_accuracy: 0.4845\n",
            "Epoch 4/20\n",
            "279/279 [==============================] - 200s 716ms/step - loss: 0.6931 - accuracy: 0.5037 - val_loss: 0.6936 - val_accuracy: 0.4845\n",
            "310/310 [==============================] - 13s 40ms/step - loss: 0.6931 - accuracy: 0.5027\n",
            "Test accuracy: 0.5026721954345703\n",
            "310/310 [==============================] - 13s 40ms/step\n"
          ]
        }
      ]
    },
    {
      "cell_type": "code",
      "source": [
        "with tf.device('/GPU:0'):\n",
        "\n",
        "    # Build the neural network\n",
        "    model = Sequential([\n",
        "        Embedding(input_dim=10000, output_dim=128, input_length=500),\n",
        "        SimpleRNN(128, return_sequences=True, dropout=0.2, recurrent_dropout=0.2),\n",
        "        Conv1D(128, 5, activation='relu'),\n",
        "        Conv1D(128, 5, activation='relu'),\n",
        "        GlobalMaxPooling1D(),\n",
        "        Dense(128, activation='relu'),\n",
        "        Dropout(0.5),\n",
        "        Dense(1, activation='sigmoid')])\n",
        "\n",
        "# Compile the model\n",
        "    optimizer = Adam(learning_rate=0.001)\n",
        "    model.compile(loss='binary_crossentropy', optimizer=optimizer, metrics=['accuracy'])\n",
        "    model.summary()\n",
        "    # Train the model\n",
        "    early_stopping = EarlyStopping(patience=3)\n",
        "    model.fit(X_train, y_train, epochs=2, batch_size=128, validation_split=0.1, callbacks=[early_stopping])\n",
        "    _, accuracy = model.evaluate(X_test, y_test)\n",
        "    print(f\"Test accuracy: {accuracy}\")"
      ],
      "metadata": {
        "id": "zLpXYtjiQTnn",
        "colab": {
          "base_uri": "https://localhost:8080/"
        },
        "outputId": "bda6db50-4a3a-466c-b1a7-0985d464fcc4"
      },
      "execution_count": null,
      "outputs": [
        {
          "output_type": "stream",
          "name": "stdout",
          "text": [
            "Model: \"sequential_1\"\n",
            "_________________________________________________________________\n",
            " Layer (type)                Output Shape              Param #   \n",
            "=================================================================\n",
            " embedding_1 (Embedding)     (None, 500, 128)          1280000   \n",
            "                                                                 \n",
            " simple_rnn_1 (SimpleRNN)    (None, 500, 128)          32896     \n",
            "                                                                 \n",
            " conv1d (Conv1D)             (None, 496, 128)          82048     \n",
            "                                                                 \n",
            " conv1d_1 (Conv1D)           (None, 492, 128)          82048     \n",
            "                                                                 \n",
            " global_max_pooling1d_1 (Gl  (None, 128)               0         \n",
            " obalMaxPooling1D)                                               \n",
            "                                                                 \n",
            " dense_2 (Dense)             (None, 128)               16512     \n",
            "                                                                 \n",
            " dropout_1 (Dropout)         (None, 128)               0         \n",
            "                                                                 \n",
            " dense_3 (Dense)             (None, 1)                 129       \n",
            "                                                                 \n",
            "=================================================================\n",
            "Total params: 1493633 (5.70 MB)\n",
            "Trainable params: 1493633 (5.70 MB)\n",
            "Non-trainable params: 0 (0.00 Byte)\n",
            "_________________________________________________________________\n",
            "Epoch 1/2\n",
            "279/279 [==============================] - 230s 800ms/step - loss: 0.6962 - accuracy: 0.4990 - val_loss: 0.6930 - val_accuracy: 0.5158\n",
            "Epoch 2/2\n",
            "279/279 [==============================] - 212s 759ms/step - loss: 0.6932 - accuracy: 0.5036 - val_loss: 0.6929 - val_accuracy: 0.5062\n",
            "310/310 [==============================] - 14s 45ms/step - loss: 0.6928 - accuracy: 0.5212\n",
            "Test accuracy: 0.521226167678833\n"
          ]
        }
      ]
    },
    {
      "cell_type": "code",
      "source": [
        "with tf.device('/GPU:0'):\n",
        "\n",
        "    # Build the neural network\n",
        "    model = Sequential([\n",
        "        Embedding(input_dim=10000, output_dim=128, input_length=500),\n",
        "        GRU(128, return_sequences=True, dropout=0.2, recurrent_dropout=0.2),\n",
        "        #Bidirectional(GRU(128, return_sequences=True, dropout=0.2, recurrent_dropout=0.2)),\n",
        "        #Bidirectional(LSTM(128, return_sequences=True, dropout=0.2, recurrent_dropout=0.2)),\n",
        "        Conv1D(128, 5, activation='relu'),\n",
        "        Conv1D(128, 5, activation='relu'),\n",
        "        GlobalMaxPooling1D(),\n",
        "        Dense(128, activation='relu'),\n",
        "        Dropout(0.5),\n",
        "        Dense(1, activation='sigmoid')])\n",
        "\n",
        "# Compile the model\n",
        "    optimizer = Adam(learning_rate=0.001)\n",
        "    model.compile(loss='binary_crossentropy', optimizer=optimizer, metrics=['accuracy'])\n",
        "    model.summary()\n",
        "    # Train the model\n",
        "    early_stopping = EarlyStopping(patience=3)\n",
        "    model.fit(X_train, y_train, epochs=2, batch_size=128, validation_split=0.1, callbacks=[early_stopping])\n",
        "    _, accuracy = model.evaluate(X_test, y_test)\n",
        "    print(f\"Test accuracy: {accuracy}\")"
      ],
      "metadata": {
        "colab": {
          "base_uri": "https://localhost:8080/"
        },
        "id": "GV3Nr72FXnVa",
        "outputId": "2c084b87-6f4a-4452-9b7f-3aa60179b05a"
      },
      "execution_count": 13,
      "outputs": [
        {
          "output_type": "stream",
          "name": "stderr",
          "text": [
            "WARNING:tensorflow:Layer gru will not use cuDNN kernels since it doesn't meet the criteria. It will use a generic GPU kernel as fallback when running on GPU.\n"
          ]
        },
        {
          "output_type": "stream",
          "name": "stdout",
          "text": [
            "Model: \"sequential_3\"\n",
            "_________________________________________________________________\n",
            " Layer (type)                Output Shape              Param #   \n",
            "=================================================================\n",
            " embedding_3 (Embedding)     (None, 500, 128)          1280000   \n",
            "                                                                 \n",
            " gru (GRU)                   (None, 500, 128)          99072     \n",
            "                                                                 \n",
            " conv1d_4 (Conv1D)           (None, 496, 128)          82048     \n",
            "                                                                 \n",
            " conv1d_5 (Conv1D)           (None, 492, 128)          82048     \n",
            "                                                                 \n",
            " global_max_pooling1d_3 (Gl  (None, 128)               0         \n",
            " obalMaxPooling1D)                                               \n",
            "                                                                 \n",
            " dense_6 (Dense)             (None, 128)               16512     \n",
            "                                                                 \n",
            " dropout_3 (Dropout)         (None, 128)               0         \n",
            "                                                                 \n",
            " dense_7 (Dense)             (None, 1)                 129       \n",
            "                                                                 \n",
            "=================================================================\n",
            "Total params: 1559809 (5.95 MB)\n",
            "Trainable params: 1559809 (5.95 MB)\n",
            "Non-trainable params: 0 (0.00 Byte)\n",
            "_________________________________________________________________\n",
            "Epoch 1/2\n",
            "279/279 [==============================] - 442s 2s/step - loss: 0.4054 - accuracy: 0.8037 - val_loss: 0.2932 - val_accuracy: 0.8760\n",
            "Epoch 2/2\n",
            "279/279 [==============================] - 426s 2s/step - loss: 0.2408 - accuracy: 0.9065 - val_loss: 0.3012 - val_accuracy: 0.8712\n",
            "310/310 [==============================] - 42s 136ms/step - loss: 0.3039 - accuracy: 0.8748\n",
            "Test accuracy: 0.8747605085372925\n"
          ]
        }
      ]
    },
    {
      "cell_type": "code",
      "source": [],
      "metadata": {
        "id": "iD8Q97Raakpu"
      },
      "execution_count": null,
      "outputs": []
    }
  ]
}