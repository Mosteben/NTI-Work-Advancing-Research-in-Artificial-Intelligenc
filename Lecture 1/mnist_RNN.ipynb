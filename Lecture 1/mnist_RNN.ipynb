{
  "cells": [
    {
      "metadata": {
        "_uuid": "8f2839f25d086af736a60e9eeb907d3b93b6e0e5",
        "_cell_guid": "b1076dfc-b9ad-4769-8c92-a6c4dae69d19",
        "trusted": true,
        "id": "xS9u1Mb8IVgM"
      },
      "cell_type": "code",
      "source": [
        "import tensorflow as  tf\n",
        "from tensorflow.keras.models import Sequential\n",
        "from tensorflow.keras.layers import Dense, Dropout, SimpleRNN"
      ],
      "execution_count": 1,
      "outputs": []
    },
    {
      "metadata": {
        "_cell_guid": "79c7e3d0-c299-4dcb-8224-4455121ee9b0",
        "_uuid": "d629ff2d2480ee46fbb7e2d37f6b5fab8052498a",
        "trusted": true,
        "colab": {
          "base_uri": "https://localhost:8080/"
        },
        "id": "flKJ6ziEIVgZ",
        "outputId": "bc8371e8-3955-434f-8b6b-a47c825f6110"
      },
      "cell_type": "code",
      "source": [
        "mnist = tf.keras.datasets.mnist\n",
        "\n",
        "(x_train, y_train), (x_test, y_test) = mnist.load_data()"
      ],
      "execution_count": 2,
      "outputs": [
        {
          "output_type": "stream",
          "name": "stdout",
          "text": [
            "Downloading data from https://storage.googleapis.com/tensorflow/tf-keras-datasets/mnist.npz\n",
            "11490434/11490434 [==============================] - 0s 0us/step\n"
          ]
        }
      ]
    },
    {
      "metadata": {
        "trusted": true,
        "_uuid": "b256b065dc1b36ed1d3304fdbbf9aa58fd5ab5c2",
        "id": "pNNemDPeIVgb"
      },
      "cell_type": "code",
      "source": [
        "x_train = x_train / 255.0\n",
        "x_test = x_test / 255.0"
      ],
      "execution_count": 3,
      "outputs": []
    },
    {
      "metadata": {
        "trusted": true,
        "_uuid": "51310f24074126fda66f220eb7ceda8f42362ea3",
        "colab": {
          "base_uri": "https://localhost:8080/"
        },
        "id": "j0ClMxQOIVge",
        "outputId": "3f13c397-13d6-433a-b372-95ccf6327da0"
      },
      "cell_type": "code",
      "source": [
        "print(x_train[0].shape)"
      ],
      "execution_count": 4,
      "outputs": [
        {
          "output_type": "stream",
          "name": "stdout",
          "text": [
            "(28, 28)\n"
          ]
        }
      ]
    },
    {
      "metadata": {
        "trusted": true,
        "_uuid": "6c65430b7d36bd236d9826bbeb47cc4af638f85c",
        "colab": {
          "base_uri": "https://localhost:8080/"
        },
        "id": "XHJmALE0IVgg",
        "outputId": "1825626f-d639-42cd-91f9-fc7efe3cdc2e"
      },
      "cell_type": "code",
      "source": [
        "# bulid model\n",
        "model = Sequential()\n",
        "model.add(SimpleRNN(128, input_shape=(x_train.shape[1:]), activation='relu', return_sequences=True))\n",
        "model.add(Dropout(0.2))\n",
        "\n",
        "model.add(SimpleRNN(128, activation='relu'))\n",
        "model.add(Dropout(0.2))\n",
        "\n",
        "model.add(Dense(32, activation='relu'))\n",
        "model.add(Dropout(0.2))\n",
        "\n",
        "model.add(Dense(10, activation='softmax'))\n",
        "print(model.summary())"
      ],
      "execution_count": 5,
      "outputs": [
        {
          "output_type": "stream",
          "name": "stdout",
          "text": [
            "Model: \"sequential\"\n",
            "_________________________________________________________________\n",
            " Layer (type)                Output Shape              Param #   \n",
            "=================================================================\n",
            " simple_rnn (SimpleRNN)      (None, 28, 128)           20096     \n",
            "                                                                 \n",
            " dropout (Dropout)           (None, 28, 128)           0         \n",
            "                                                                 \n",
            " simple_rnn_1 (SimpleRNN)    (None, 128)               32896     \n",
            "                                                                 \n",
            " dropout_1 (Dropout)         (None, 128)               0         \n",
            "                                                                 \n",
            " dense (Dense)               (None, 32)                4128      \n",
            "                                                                 \n",
            " dropout_2 (Dropout)         (None, 32)                0         \n",
            "                                                                 \n",
            " dense_1 (Dense)             (None, 10)                330       \n",
            "                                                                 \n",
            "=================================================================\n",
            "Total params: 57450 (224.41 KB)\n",
            "Trainable params: 57450 (224.41 KB)\n",
            "Non-trainable params: 0 (0.00 Byte)\n",
            "_________________________________________________________________\n",
            "None\n"
          ]
        }
      ]
    },
    {
      "metadata": {
        "trusted": true,
        "_uuid": "470aa3a0f9b7ff46b168ff7099670fc5aa929e09",
        "colab": {
          "base_uri": "https://localhost:8080/"
        },
        "id": "VbIxTyxvIVgh",
        "outputId": "534d214a-da6a-489b-fa48-0f94fd3b887b"
      },
      "cell_type": "code",
      "source": [
        "opt = tf.keras.optimizers.Adam(lr=1e-3)"
      ],
      "execution_count": 6,
      "outputs": [
        {
          "output_type": "stream",
          "name": "stderr",
          "text": [
            "WARNING:absl:`lr` is deprecated in Keras optimizer, please use `learning_rate` or use the legacy optimizer, e.g.,tf.keras.optimizers.legacy.Adam.\n"
          ]
        }
      ]
    },
    {
      "metadata": {
        "trusted": true,
        "_uuid": "0cd6bd062c30da4cf7c549e7e30f6f0307c1e906",
        "id": "ZTvnTBmxIVgi"
      },
      "cell_type": "code",
      "source": [
        "model.compile(loss='sparse_categorical_crossentropy', optimizer=opt,\n",
        "             metrics=['accuracy'])"
      ],
      "execution_count": 7,
      "outputs": []
    },
    {
      "metadata": {
        "trusted": true,
        "_uuid": "d58bfeb55bacdc06f8725142e7a8824207db34a3",
        "colab": {
          "base_uri": "https://localhost:8080/"
        },
        "id": "yqvOx0pnIVgk",
        "outputId": "a46474d5-6fc2-4e57-ebd3-f97274a25f9b"
      },
      "cell_type": "code",
      "source": [
        "model.fit(x_train, y_train, epochs=3, validation_data=(x_test, y_test))"
      ],
      "execution_count": 8,
      "outputs": [
        {
          "output_type": "stream",
          "name": "stdout",
          "text": [
            "Epoch 1/3\n",
            "1875/1875 [==============================] - 70s 35ms/step - loss: 0.5416 - accuracy: 0.8340 - val_loss: 0.1700 - val_accuracy: 0.9520\n",
            "Epoch 2/3\n",
            "1875/1875 [==============================] - 64s 34ms/step - loss: 0.2251 - accuracy: 0.9435 - val_loss: 0.1778 - val_accuracy: 0.9524\n",
            "Epoch 3/3\n",
            "1875/1875 [==============================] - 64s 34ms/step - loss: 0.1818 - accuracy: 0.9544 - val_loss: 0.1823 - val_accuracy: 0.9527\n"
          ]
        },
        {
          "output_type": "execute_result",
          "data": {
            "text/plain": [
              "<keras.src.callbacks.History at 0x7b56baa59480>"
            ]
          },
          "metadata": {},
          "execution_count": 8
        }
      ]
    },
    {
      "metadata": {
        "trusted": true,
        "_uuid": "eca4fe429bf6c5a580d0d8410a41b64ad1449a3c",
        "id": "UWeNib4TIVgm"
      },
      "cell_type": "code",
      "source": [
        "model.save('Minst_Lstm.model')"
      ],
      "execution_count": 9,
      "outputs": []
    },
    {
      "metadata": {
        "trusted": true,
        "_uuid": "2d1f0b2173c4c374b02eefe06500b45f9df2e110",
        "id": "hZssvZW0IVgn"
      },
      "cell_type": "code",
      "source": [],
      "execution_count": 9,
      "outputs": []
    },
    {
      "metadata": {
        "trusted": true,
        "_uuid": "ebed0e32d551ffc37bd176d2f3eb608b077159c1",
        "id": "dYjv3ZlGIVgo"
      },
      "cell_type": "code",
      "source": [],
      "execution_count": 9,
      "outputs": []
    },
    {
      "metadata": {
        "trusted": true,
        "_uuid": "d9284740583b5726a9bda6b71bab858ede408a93",
        "id": "Mx6-MuaPIVgo"
      },
      "cell_type": "code",
      "source": [],
      "execution_count": 9,
      "outputs": []
    },
    {
      "metadata": {
        "trusted": true,
        "_uuid": "e243625a2ac0655274734f59f89c10f8dd618e88",
        "id": "5rPbkQl_IVgp"
      },
      "cell_type": "code",
      "source": [],
      "execution_count": 9,
      "outputs": []
    },
    {
      "metadata": {
        "trusted": true,
        "_uuid": "eedc3c12dc83824fbd68e00ecf78464c8e8fdc63",
        "id": "72-KvOT0IVgp"
      },
      "cell_type": "code",
      "source": [],
      "execution_count": 9,
      "outputs": []
    }
  ],
  "metadata": {
    "kernelspec": {
      "display_name": "Python 3",
      "name": "python3"
    },
    "language_info": {
      "name": "python",
      "version": "3.6.6",
      "mimetype": "text/x-python",
      "codemirror_mode": {
        "name": "ipython",
        "version": 3
      },
      "pygments_lexer": "ipython3",
      "nbconvert_exporter": "python",
      "file_extension": ".py"
    },
    "colab": {
      "provenance": [],
      "gpuType": "T4"
    },
    "accelerator": "GPU"
  },
  "nbformat": 4,
  "nbformat_minor": 0
}