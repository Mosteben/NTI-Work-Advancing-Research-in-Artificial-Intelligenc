{
 "cells": [
  {
   "cell_type": "markdown",
   "id": "ffde852f",
   "metadata": {
    "papermill": {
     "duration": 0.008373,
     "end_time": "2022-07-10T18:31:49.452123",
     "exception": false,
     "start_time": "2022-07-10T18:31:49.443750",
     "status": "completed"
    },
    "tags": []
   },
   "source": [
    "---"
   ]
  },
  {
   "cell_type": "markdown",
   "id": "be3d6235",
   "metadata": {
    "papermill": {
     "duration": 0.006671,
     "end_time": "2022-07-10T18:31:49.466029",
     "exception": false,
     "start_time": "2022-07-10T18:31:49.459358",
     "status": "completed"
    },
    "tags": []
   },
   "source": [
    "# <center>★ AI / ML Project - Image Denoising★\n",
    "#### <center> ***Domain: Computer Vision***"
   ]
  },
  {
   "cell_type": "markdown",
   "id": "b3a9df32",
   "metadata": {
    "papermill": {
     "duration": 0.012849,
     "end_time": "2022-07-10T18:31:49.485822",
     "exception": false,
     "start_time": "2022-07-10T18:31:49.472973",
     "status": "completed"
    },
    "tags": []
   },
   "source": [
    "<center><img src=\"https://raw.githubusercontent.com/Masterx-AI/Project_Image_denoising_using_Autoencoders/main/Autoencoders.png\" style=\"width: 800px;\"/>"
   ]
  },
  {
   "cell_type": "markdown",
   "id": "ad443b88",
   "metadata": {
    "papermill": {
     "duration": 0.006652,
     "end_time": "2022-07-10T18:31:49.499501",
     "exception": false,
     "start_time": "2022-07-10T18:31:49.492849",
     "status": "completed"
    },
    "tags": []
   },
   "source": [
    "---"
   ]
  },
  {
   "cell_type": "markdown",
   "id": "3330649c",
   "metadata": {
    "papermill": {
     "duration": 0.006736,
     "end_time": "2022-07-10T18:31:49.513005",
     "exception": false,
     "start_time": "2022-07-10T18:31:49.506269",
     "status": "completed"
    },
    "tags": []
   },
   "source": [
    "### Description:\n",
    "\n",
    "An autoencoder is a special type of neural network that is trained to copy its input to its output. For example, given an image of a handwritten digit, an autoencoder first encodes the image into a lower dimensional latent representation, then decodes the latent representation back to an image. An autoencoder learns to compress the data while minimizing the reconstruction error.\n",
    "\n",
    "To learn more about autoencoders, please consider reading chapter 14 from Deep Learning by Ian Goodfellow, Yoshua Bengio, and Aaron Courville.\n",
    "\n",
    "\n",
    "### Acknowledgement: \n",
    "The dataset is referred from Google\n",
    "\n",
    "### Objective:\n",
    "- Understand the Dataset & perform necessary Preprocessing.\n",
    "- Design a Neural Network Architecture - Autoencoder Model.\n",
    "- Train the autoencoder model to carry out image denoising process."
   ]
  },
  {
   "cell_type": "markdown",
   "id": "0f6ec59e",
   "metadata": {
    "papermill": {
     "duration": 0.007078,
     "end_time": "2022-07-10T18:31:49.527249",
     "exception": false,
     "start_time": "2022-07-10T18:31:49.520171",
     "status": "completed"
    },
    "tags": []
   },
   "source": [
    "---"
   ]
  },
  {
   "cell_type": "markdown",
   "id": "0801808f",
   "metadata": {
    "papermill": {
     "duration": 0.006775,
     "end_time": "2022-07-10T18:31:49.541027",
     "exception": false,
     "start_time": "2022-07-10T18:31:49.534252",
     "status": "completed"
    },
    "tags": []
   },
   "source": [
    "# <center> Stractegic Plan of Action:"
   ]
  },
  {
   "cell_type": "markdown",
   "id": "c55eadc2",
   "metadata": {
    "papermill": {
     "duration": 0.006898,
     "end_time": "2022-07-10T18:31:49.555041",
     "exception": false,
     "start_time": "2022-07-10T18:31:49.548143",
     "status": "completed"
    },
    "tags": []
   },
   "source": [
    "**We aim to solve the problem statement by creating a plan of action, Here are some of the necessary steps:**\n",
    "1. Data Exploration\n",
    "2. Data Pre-processing\n",
    "3. Predictive Modelling\n",
    "4. Project Outcomes & Conclusion"
   ]
  },
  {
   "cell_type": "markdown",
   "id": "f65498ab",
   "metadata": {
    "papermill": {
     "duration": 0.006751,
     "end_time": "2022-07-10T18:31:49.569084",
     "exception": false,
     "start_time": "2022-07-10T18:31:49.562333",
     "status": "completed"
    },
    "tags": []
   },
   "source": [
    "---"
   ]
  },
  {
   "cell_type": "markdown",
   "id": "0880cd04",
   "metadata": {
    "papermill": {
     "duration": 0.00676,
     "end_time": "2022-07-10T18:31:49.582819",
     "exception": false,
     "start_time": "2022-07-10T18:31:49.576059",
     "status": "completed"
    },
    "tags": []
   },
   "source": [
    "# <center>1. Data Exploration"
   ]
  },
  {
   "cell_type": "code",
   "execution_count": 1,
   "id": "81d26793",
   "metadata": {
    "execution": {
     "iopub.execute_input": "2022-07-10T18:31:49.598843Z",
     "iopub.status.busy": "2022-07-10T18:31:49.598147Z",
     "iopub.status.idle": "2022-07-10T18:31:58.144299Z",
     "shell.execute_reply": "2022-07-10T18:31:58.143249Z"
    },
    "papermill": {
     "duration": 8.557433,
     "end_time": "2022-07-10T18:31:58.147099",
     "exception": false,
     "start_time": "2022-07-10T18:31:49.589666",
     "status": "completed"
    },
    "tags": []
   },
   "outputs": [],
   "source": [
    "# Importing the necessary libraries\n",
    "\n",
    "import numpy as np\n",
    "import tensorflow as tf\n",
    "import matplotlib.pyplot as plt\n",
    "\n",
    "from tensorflow.keras import layers\n",
    "from tensorflow.keras.datasets import mnist\n",
    "from tensorflow.keras.models import Model"
   ]
  },
  {
   "cell_type": "code",
   "execution_count": 2,
   "id": "74482cee",
   "metadata": {
    "execution": {
     "iopub.execute_input": "2022-07-10T18:31:58.163102Z",
     "iopub.status.busy": "2022-07-10T18:31:58.162569Z",
     "iopub.status.idle": "2022-07-10T18:31:59.100763Z",
     "shell.execute_reply": "2022-07-10T18:31:59.099646Z"
    },
    "papermill": {
     "duration": 0.948701,
     "end_time": "2022-07-10T18:31:59.103179",
     "exception": false,
     "start_time": "2022-07-10T18:31:58.154478",
     "status": "completed"
    },
    "tags": []
   },
   "outputs": [
    {
     "name": "stdout",
     "output_type": "stream",
     "text": [
      "Downloading data from https://storage.googleapis.com/tensorflow/tf-keras-datasets/mnist.npz\n",
      "11493376/11490434 [==============================] - 0s 0us/step\n",
      "11501568/11490434 [==============================] - 0s 0us/step\n"
     ]
    }
   ],
   "source": [
    "# Since we only need images from the dataset to encode and decode, we\n",
    "# won't use the labels.\n",
    "(train_data, _), (test_data, _) = mnist.load_data()\n",
    "\n",
    "def preprocess(array):\n",
    "    \"\"\"\n",
    "    Normalizes the supplied array and reshapes it into the appropriate format.\n",
    "    \"\"\"\n",
    "\n",
    "    array = array.astype(\"float32\") / 255.0\n",
    "    array = np.reshape(array, (len(array), 28, 28, 1))\n",
    "    return array\n",
    "\n",
    "# Normalize and reshape the data\n",
    "train_data = preprocess(train_data)\n",
    "test_data = preprocess(test_data)"
   ]
  },
  {
   "cell_type": "code",
   "execution_count": 3,
   "id": "5a3a1077",
   "metadata": {
    "execution": {
     "iopub.execute_input": "2022-07-10T18:31:59.115111Z",
     "iopub.status.busy": "2022-07-10T18:31:59.114763Z",
     "iopub.status.idle": "2022-07-10T18:32:00.042835Z",
     "shell.execute_reply": "2022-07-10T18:32:00.041870Z"
    },
    "papermill": {
     "duration": 0.936335,
     "end_time": "2022-07-10T18:32:00.044582",
     "exception": false,
     "start_time": "2022-07-10T18:31:59.108247",
     "status": "completed"
    },
    "tags": []
   },
   "outputs": [
    {
     "data": {
      "image/png": "[encoded data removed]",
      "text/plain": [
       "<Figure size 864x720 with 25 Axes>"
      ]
     },
     "metadata": {
      "needs_background": "light"
     },
     "output_type": "display_data"
    }
   ],
   "source": [
    "# Visualising the Dataset\n",
    "\n",
    "n=25\n",
    "\n",
    "plt.figure(figsize=[12,10])\n",
    "for i in range(n):\n",
    "    plt.subplot(5,5,i+1)\n",
    "    plt.imshow(train_data[i])\n",
    "    #plt.title(Class_names[y.numpy()])\n",
    "    plt.axis('off')\n",
    "plt.show()"
   ]
  },
  {
   "cell_type": "markdown",
   "id": "89a72204",
   "metadata": {
    "papermill": {
     "duration": 0.004851,
     "end_time": "2022-07-10T18:32:00.054710",
     "exception": false,
     "start_time": "2022-07-10T18:32:00.049859",
     "status": "completed"
    },
    "tags": []
   },
   "source": [
    "---"
   ]
  },
  {
   "cell_type": "markdown",
   "id": "ca91aeab",
   "metadata": {
    "papermill": {
     "duration": 0.004651,
     "end_time": "2022-07-10T18:32:00.064278",
     "exception": false,
     "start_time": "2022-07-10T18:32:00.059627",
     "status": "completed"
    },
    "tags": []
   },
   "source": [
    "# <center>2. Data Preprocessing"
   ]
  },
  {
   "cell_type": "code",
   "execution_count": 4,
   "id": "a99a1be0",
   "metadata": {
    "execution": {
     "iopub.execute_input": "2022-07-10T18:32:00.077218Z",
     "iopub.status.busy": "2022-07-10T18:32:00.075843Z",
     "iopub.status.idle": "2022-07-10T18:32:00.088527Z",
     "shell.execute_reply": "2022-07-10T18:32:00.087472Z"
    },
    "papermill": {
     "duration": 0.021511,
     "end_time": "2022-07-10T18:32:00.090686",
     "exception": false,
     "start_time": "2022-07-10T18:32:00.069175",
     "status": "completed"
    },
    "tags": []
   },
   "outputs": [],
   "source": [
    "# Defining data preprocessing functions\n",
    "\n",
    "def noise(array):\n",
    "    \"\"\"\n",
    "    Adds random noise to each image in the supplied array.\n",
    "    \"\"\"\n",
    "\n",
    "    noise_factor = 0.4\n",
    "    noisy_array = array + noise_factor * np.random.normal(\n",
    "        loc=0.0, scale=1.0, size=array.shape\n",
    "    )\n",
    "\n",
    "    return np.clip(noisy_array, 0.0, 1.0)\n",
    "\n",
    "\n",
    "def display(array1, array2):\n",
    "    \"\"\"\n",
    "    Displays ten random images from each one of the supplied arrays.\n",
    "    \"\"\"\n",
    "\n",
    "    n = 10\n",
    "\n",
    "    indices = np.random.randint(len(array1), size=n)\n",
    "    images1 = array1[indices, :]\n",
    "    images2 = array2[indices, :]\n",
    "\n",
    "    plt.figure(figsize=(20, 4))\n",
    "    for i, (image1, image2) in enumerate(zip(images1, images2)):\n",
    "        ax = plt.subplot(2, n, i + 1)\n",
    "        plt.imshow(image1.reshape(28, 28))\n",
    "        plt.gray()\n",
    "        ax.get_xaxis().set_visible(False)\n",
    "        ax.get_yaxis().set_visible(False)\n",
    "\n",
    "        ax = plt.subplot(2, n, i + 1 + n)\n",
    "        plt.imshow(image2.reshape(28, 28))\n",
    "        plt.gray()\n",
    "        ax.get_xaxis().set_visible(False)\n",
    "        ax.get_yaxis().set_visible(False)\n",
    "\n",
    "    plt.show()"
   ]
  },
  {
   "cell_type": "code",
   "execution_count": 5,
   "id": "e36d1048",
   "metadata": {
    "execution": {
     "iopub.execute_input": "2022-07-10T18:32:00.109221Z",
     "iopub.status.busy": "2022-07-10T18:32:00.108568Z",
     "iopub.status.idle": "2022-07-10T18:32:02.905489Z",
     "shell.execute_reply": "2022-07-10T18:32:02.903822Z"
    },
    "papermill": {
     "duration": 2.809562,
     "end_time": "2022-07-10T18:32:02.908522",
     "exception": false,
     "start_time": "2022-07-10T18:32:00.098960",
     "status": "completed"
    },
    "tags": []
   },
   "outputs": [
    {
     "data": {
      "image/png": "[encoded data removed]",
      "text/plain": [
       "<Figure size 1440x288 with 20 Axes>"
      ]
     },
     "metadata": {
      "needs_background": "light"
     },
     "output_type": "display_data"
    }
   ],
   "source": [
    "# Create a copy of the data with added noise\n",
    "noisy_train_data = noise(train_data)\n",
    "noisy_test_data = noise(test_data)\n",
    "\n",
    "# Display the train data and a version of it with added noise\n",
    "display(train_data, noisy_train_data)"
   ]
  },
  {
   "cell_type": "markdown",
   "id": "5a0cea61",
   "metadata": {
    "papermill": {
     "duration": 0.008829,
     "end_time": "2022-07-10T18:32:02.928537",
     "exception": false,
     "start_time": "2022-07-10T18:32:02.919708",
     "status": "completed"
    },
    "tags": []
   },
   "source": [
    "---"
   ]
  },
  {
   "cell_type": "markdown",
   "id": "e1b00d30",
   "metadata": {
    "papermill": {
     "duration": 0.008285,
     "end_time": "2022-07-10T18:32:02.945597",
     "exception": false,
     "start_time": "2022-07-10T18:32:02.937312",
     "status": "completed"
    },
    "tags": []
   },
   "source": [
    "# <center>3. Predictive Modelling"
   ]
  },
  {
   "cell_type": "code",
   "execution_count": 6,
   "id": "58f5b2dc",
   "metadata": {
    "execution": {
     "iopub.execute_input": "2022-07-10T18:32:02.965152Z",
     "iopub.status.busy": "2022-07-10T18:32:02.964745Z",
     "iopub.status.idle": "2022-07-10T18:32:03.320691Z",
     "shell.execute_reply": "2022-07-10T18:32:03.319082Z"
    },
    "papermill": {
     "duration": 0.368263,
     "end_time": "2022-07-10T18:32:03.322596",
     "exception": false,
     "start_time": "2022-07-10T18:32:02.954333",
     "status": "completed"
    },
    "tags": []
   },
   "outputs": [
    {
     "name": "stdout",
     "output_type": "stream",
     "text": [
      "Model: \"model\"\n",
      "_________________________________________________________________\n",
      "Layer (type)                 Output Shape              Param #   \n",
      "=================================================================\n",
      "input_1 (InputLayer)         [(None, 28, 28, 1)]       0         \n",
      "_________________________________________________________________\n",
      "conv2d (Conv2D)              (None, 28, 28, 32)        320       \n",
      "_________________________________________________________________\n",
      "max_pooling2d (MaxPooling2D) (None, 14, 14, 32)        0         \n",
      "_________________________________________________________________\n",
      "conv2d_1 (Conv2D)            (None, 14, 14, 32)        9248      \n",
      "_________________________________________________________________\n",
      "max_pooling2d_1 (MaxPooling2 (None, 7, 7, 32)          0         \n",
      "_________________________________________________________________\n",
      "conv2d_transpose (Conv2DTran (None, 14, 14, 32)        9248      \n",
      "_________________________________________________________________\n",
      "conv2d_transpose_1 (Conv2DTr (None, 28, 28, 32)        9248      \n",
      "_________________________________________________________________\n",
      "conv2d_2 (Conv2D)            (None, 28, 28, 1)         289       \n",
      "=================================================================\n",
      "Total params: 28,353\n",
      "Trainable params: 28,353\n",
      "Non-trainable params: 0\n",
      "_________________________________________________________________\n"
     ]
    },
    {
     "name": "stderr",
     "output_type": "stream",
     "text": [
      "2022-07-10 18:32:03.226124: I tensorflow/core/common_runtime/process_util.cc:146] Creating new thread pool with default inter op setting: 2. Tune using inter_op_parallelism_threads for best performance.\n"
     ]
    }
   ],
   "source": [
    "# Constructing the Autoencoder Model Architecture\n",
    "\n",
    "input = layers.Input(shape=(28, 28, 1))\n",
    "\n",
    "# Encoder\n",
    "x = layers.Conv2D(32, (3, 3), activation=\"relu\", padding=\"same\")(input)\n",
    "x = layers.MaxPooling2D((2, 2), padding=\"same\")(x)\n",
    "x = layers.Conv2D(32, (3, 3), activation=\"relu\", padding=\"same\")(x)\n",
    "x = layers.MaxPooling2D((2, 2), padding=\"same\")(x)\n",
    "\n",
    "# Decoder\n",
    "x = layers.Conv2DTranspose(32, (3, 3), strides=2, activation=\"relu\", padding=\"same\")(x)\n",
    "x = layers.Conv2DTranspose(32, (3, 3), strides=2, activation=\"relu\", padding=\"same\")(x)\n",
    "x = layers.Conv2D(1, (3, 3), activation=\"sigmoid\", padding=\"same\")(x)\n",
    "\n",
    "# Autoencoder\n",
    "autoencoder = Model(input, x)\n",
    "autoencoder.compile(optimizer=\"adam\", loss=\"binary_crossentropy\")\n",
    "autoencoder.summary()"
   ]
  },
  {
   "cell_type": "code",
   "execution_count": 7,
   "id": "dcf369af",
   "metadata": {
    "execution": {
     "iopub.execute_input": "2022-07-10T18:32:03.337234Z",
     "iopub.status.busy": "2022-07-10T18:32:03.336180Z",
     "iopub.status.idle": "2022-07-10T19:38:18.375870Z",
     "shell.execute_reply": "2022-07-10T19:38:18.375019Z"
    },
    "papermill": {
     "duration": 3975.049128,
     "end_time": "2022-07-10T19:38:18.377844",
     "exception": false,
     "start_time": "2022-07-10T18:32:03.328716",
     "status": "completed"
    },
    "tags": []
   },
   "outputs": [
    {
     "name": "stderr",
     "output_type": "stream",
     "text": [
      "2022-07-10 18:32:03.595091: I tensorflow/compiler/mlir/mlir_graph_optimization_pass.cc:185] None of the MLIR Optimization Passes are enabled (registered 2)\n"
     ]
    },
    {
     "name": "stdout",
     "output_type": "stream",
     "text": [
      "Epoch 1/100\n",
      "469/469 [==============================] - 40s 83ms/step - loss: 0.1807 - val_loss: 0.1066\n",
      "Epoch 2/100\n",
      "469/469 [==============================] - 38s 82ms/step - loss: 0.1021 - val_loss: 0.0979\n",
      "Epoch 3/100\n",
      "469/469 [==============================] - 38s 81ms/step - loss: 0.0972 - val_loss: 0.0945\n",
      "Epoch 4/100\n",
      "469/469 [==============================] - 39s 83ms/step - loss: 0.0946 - val_loss: 0.0928\n",
      "Epoch 5/100\n",
      "469/469 [==============================] - 39s 84ms/step - loss: 0.0931 - val_loss: 0.0913\n",
      "Epoch 6/100\n",
      "469/469 [==============================] - 38s 82ms/step - loss: 0.0919 - val_loss: 0.0906\n",
      "Epoch 7/100\n",
      "469/469 [==============================] - 38s 81ms/step - loss: 0.0911 - val_loss: 0.0897\n",
      "Epoch 8/100\n",
      "469/469 [==============================] - 38s 81ms/step - loss: 0.0904 - val_loss: 0.0894\n",
      "Epoch 9/100\n",
      "469/469 [==============================] - 38s 80ms/step - loss: 0.0899 - val_loss: 0.0889\n",
      "Epoch 10/100\n",
      "469/469 [==============================] - 39s 83ms/step - loss: 0.0894 - val_loss: 0.0884\n",
      "Epoch 11/100\n",
      "469/469 [==============================] - 39s 83ms/step - loss: 0.0890 - val_loss: 0.0881\n",
      "Epoch 12/100\n",
      "469/469 [==============================] - 39s 84ms/step - loss: 0.0887 - val_loss: 0.0877\n",
      "Epoch 13/100\n",
      "469/469 [==============================] - 39s 84ms/step - loss: 0.0883 - val_loss: 0.0877\n",
      "Epoch 14/100\n",
      "469/469 [==============================] - 39s 84ms/step - loss: 0.0880 - val_loss: 0.0872\n",
      "Epoch 15/100\n",
      "469/469 [==============================] - 39s 84ms/step - loss: 0.0878 - val_loss: 0.0870\n",
      "Epoch 16/100\n",
      "469/469 [==============================] - 39s 83ms/step - loss: 0.0875 - val_loss: 0.0869\n",
      "Epoch 17/100\n",
      "469/469 [==============================] - 39s 83ms/step - loss: 0.0873 - val_loss: 0.0866\n",
      "Epoch 18/100\n",
      "469/469 [==============================] - 39s 83ms/step - loss: 0.0872 - val_loss: 0.0865\n",
      "Epoch 19/100\n",
      "469/469 [==============================] - 39s 83ms/step - loss: 0.0870 - val_loss: 0.0864\n",
      "Epoch 20/100\n",
      "469/469 [==============================] - 39s 84ms/step - loss: 0.0869 - val_loss: 0.0864\n",
      "Epoch 21/100\n",
      "469/469 [==============================] - 40s 85ms/step - loss: 0.0867 - val_loss: 0.0864\n",
      "Epoch 22/100\n",
      "469/469 [==============================] - 39s 84ms/step - loss: 0.0866 - val_loss: 0.0859\n",
      "Epoch 23/100\n",
      "469/469 [==============================] - 38s 82ms/step - loss: 0.0865 - val_loss: 0.0859\n",
      "Epoch 24/100\n",
      "469/469 [==============================] - 39s 83ms/step - loss: 0.0863 - val_loss: 0.0857\n",
      "Epoch 25/100\n",
      "469/469 [==============================] - 39s 83ms/step - loss: 0.0862 - val_loss: 0.0861\n",
      "Epoch 26/100\n",
      "469/469 [==============================] - 39s 84ms/step - loss: 0.0862 - val_loss: 0.0855\n",
      "Epoch 27/100\n",
      "469/469 [==============================] - 39s 83ms/step - loss: 0.0860 - val_loss: 0.0855\n",
      "Epoch 28/100\n",
      "469/469 [==============================] - 39s 83ms/step - loss: 0.0860 - val_loss: 0.0858\n",
      "Epoch 29/100\n",
      "469/469 [==============================] - 39s 83ms/step - loss: 0.0859 - val_loss: 0.0853\n",
      "Epoch 30/100\n",
      "469/469 [==============================] - 39s 83ms/step - loss: 0.0858 - val_loss: 0.0853\n",
      "Epoch 31/100\n",
      "469/469 [==============================] - 38s 82ms/step - loss: 0.0857 - val_loss: 0.0852\n",
      "Epoch 32/100\n",
      "469/469 [==============================] - 40s 85ms/step - loss: 0.0857 - val_loss: 0.0852\n",
      "Epoch 33/100\n",
      "469/469 [==============================] - 39s 82ms/step - loss: 0.0856 - val_loss: 0.0852\n",
      "Epoch 34/100\n",
      "469/469 [==============================] - 40s 86ms/step - loss: 0.0856 - val_loss: 0.0851\n",
      "Epoch 35/100\n",
      "469/469 [==============================] - 39s 83ms/step - loss: 0.0855 - val_loss: 0.0851\n",
      "Epoch 36/100\n",
      "469/469 [==============================] - 39s 84ms/step - loss: 0.0854 - val_loss: 0.0850\n",
      "Epoch 37/100\n",
      "469/469 [==============================] - 40s 85ms/step - loss: 0.0854 - val_loss: 0.0850\n",
      "Epoch 38/100\n",
      "469/469 [==============================] - 40s 86ms/step - loss: 0.0853 - val_loss: 0.0849\n",
      "Epoch 39/100\n",
      "469/469 [==============================] - 39s 83ms/step - loss: 0.0853 - val_loss: 0.0850\n",
      "Epoch 40/100\n",
      "469/469 [==============================] - 39s 84ms/step - loss: 0.0852 - val_loss: 0.0848\n",
      "Epoch 41/100\n",
      "469/469 [==============================] - 39s 84ms/step - loss: 0.0852 - val_loss: 0.0854\n",
      "Epoch 42/100\n",
      "469/469 [==============================] - 40s 85ms/step - loss: 0.0852 - val_loss: 0.0847\n",
      "Epoch 43/100\n",
      "469/469 [==============================] - 40s 86ms/step - loss: 0.0851 - val_loss: 0.0848\n",
      "Epoch 44/100\n",
      "469/469 [==============================] - 40s 85ms/step - loss: 0.0851 - val_loss: 0.0848\n",
      "Epoch 45/100\n",
      "469/469 [==============================] - 40s 85ms/step - loss: 0.0851 - val_loss: 0.0846\n",
      "Epoch 46/100\n",
      "469/469 [==============================] - 41s 87ms/step - loss: 0.0850 - val_loss: 0.0847\n",
      "Epoch 47/100\n",
      "469/469 [==============================] - 39s 84ms/step - loss: 0.0850 - val_loss: 0.0846\n",
      "Epoch 48/100\n",
      "469/469 [==============================] - 41s 87ms/step - loss: 0.0849 - val_loss: 0.0846\n",
      "Epoch 49/100\n",
      "469/469 [==============================] - 41s 87ms/step - loss: 0.0849 - val_loss: 0.0845\n",
      "Epoch 50/100\n",
      "469/469 [==============================] - 41s 87ms/step - loss: 0.0849 - val_loss: 0.0845\n",
      "Epoch 51/100\n",
      "469/469 [==============================] - 42s 89ms/step - loss: 0.0849 - val_loss: 0.0845\n",
      "Epoch 52/100\n",
      "469/469 [==============================] - 42s 90ms/step - loss: 0.0848 - val_loss: 0.0845\n",
      "Epoch 53/100\n",
      "469/469 [==============================] - 41s 87ms/step - loss: 0.0848 - val_loss: 0.0844\n",
      "Epoch 54/100\n",
      "469/469 [==============================] - 42s 89ms/step - loss: 0.0848 - val_loss: 0.0845\n",
      "Epoch 55/100\n",
      "469/469 [==============================] - 41s 86ms/step - loss: 0.0848 - val_loss: 0.0844\n",
      "Epoch 56/100\n",
      "469/469 [==============================] - 40s 86ms/step - loss: 0.0847 - val_loss: 0.0844\n",
      "Epoch 57/100\n",
      "469/469 [==============================] - 42s 89ms/step - loss: 0.0847 - val_loss: 0.0843\n",
      "Epoch 58/100\n",
      "469/469 [==============================] - 42s 89ms/step - loss: 0.0847 - val_loss: 0.0844\n",
      "Epoch 59/100\n",
      "469/469 [==============================] - 41s 87ms/step - loss: 0.0847 - val_loss: 0.0843\n",
      "Epoch 60/100\n",
      "469/469 [==============================] - 41s 87ms/step - loss: 0.0846 - val_loss: 0.0843\n",
      "Epoch 61/100\n",
      "469/469 [==============================] - 40s 85ms/step - loss: 0.0846 - val_loss: 0.0843\n",
      "Epoch 62/100\n",
      "469/469 [==============================] - 42s 89ms/step - loss: 0.0846 - val_loss: 0.0842\n",
      "Epoch 63/100\n",
      "469/469 [==============================] - 40s 85ms/step - loss: 0.0846 - val_loss: 0.0842\n",
      "Epoch 64/100\n",
      "469/469 [==============================] - 40s 85ms/step - loss: 0.0845 - val_loss: 0.0842\n",
      "Epoch 65/100\n",
      "469/469 [==============================] - 40s 85ms/step - loss: 0.0845 - val_loss: 0.0843\n",
      "Epoch 66/100\n",
      "469/469 [==============================] - 40s 86ms/step - loss: 0.0845 - val_loss: 0.0841\n",
      "Epoch 67/100\n",
      "469/469 [==============================] - 39s 83ms/step - loss: 0.0845 - val_loss: 0.0842\n",
      "Epoch 68/100\n",
      "469/469 [==============================] - 39s 84ms/step - loss: 0.0845 - val_loss: 0.0841\n",
      "Epoch 69/100\n",
      "469/469 [==============================] - 41s 86ms/step - loss: 0.0845 - val_loss: 0.0841\n",
      "Epoch 70/100\n",
      "469/469 [==============================] - 40s 85ms/step - loss: 0.0845 - val_loss: 0.0841\n",
      "Epoch 71/100\n",
      "469/469 [==============================] - 41s 87ms/step - loss: 0.0844 - val_loss: 0.0842\n",
      "Epoch 72/100\n",
      "469/469 [==============================] - 40s 85ms/step - loss: 0.0844 - val_loss: 0.0841\n",
      "Epoch 73/100\n",
      "469/469 [==============================] - 39s 84ms/step - loss: 0.0844 - val_loss: 0.0841\n",
      "Epoch 74/100\n",
      "469/469 [==============================] - 39s 83ms/step - loss: 0.0844 - val_loss: 0.0841\n",
      "Epoch 75/100\n",
      "469/469 [==============================] - 39s 83ms/step - loss: 0.0844 - val_loss: 0.0840\n",
      "Epoch 76/100\n",
      "469/469 [==============================] - 40s 85ms/step - loss: 0.0844 - val_loss: 0.0842\n",
      "Epoch 77/100\n",
      "469/469 [==============================] - 41s 87ms/step - loss: 0.0843 - val_loss: 0.0840\n",
      "Epoch 78/100\n",
      "469/469 [==============================] - 40s 85ms/step - loss: 0.0843 - val_loss: 0.0841\n",
      "Epoch 79/100\n",
      "469/469 [==============================] - 39s 84ms/step - loss: 0.0843 - val_loss: 0.0841\n",
      "Epoch 80/100\n",
      "469/469 [==============================] - 40s 85ms/step - loss: 0.0843 - val_loss: 0.0840\n",
      "Epoch 81/100\n",
      "469/469 [==============================] - 39s 84ms/step - loss: 0.0843 - val_loss: 0.0842\n",
      "Epoch 82/100\n",
      "469/469 [==============================] - 40s 84ms/step - loss: 0.0843 - val_loss: 0.0842\n",
      "Epoch 83/100\n",
      "469/469 [==============================] - 38s 82ms/step - loss: 0.0843 - val_loss: 0.0840\n",
      "Epoch 84/100\n",
      "469/469 [==============================] - 40s 85ms/step - loss: 0.0843 - val_loss: 0.0840\n",
      "Epoch 85/100\n",
      "469/469 [==============================] - 40s 85ms/step - loss: 0.0842 - val_loss: 0.0841\n",
      "Epoch 86/100\n",
      "469/469 [==============================] - 42s 90ms/step - loss: 0.0843 - val_loss: 0.0840\n",
      "Epoch 87/100\n",
      "469/469 [==============================] - 41s 88ms/step - loss: 0.0842 - val_loss: 0.0842\n",
      "Epoch 88/100\n",
      "469/469 [==============================] - 42s 89ms/step - loss: 0.0842 - val_loss: 0.0840\n",
      "Epoch 89/100\n",
      "469/469 [==============================] - 40s 86ms/step - loss: 0.0842 - val_loss: 0.0839\n",
      "Epoch 90/100\n",
      "469/469 [==============================] - 40s 84ms/step - loss: 0.0842 - val_loss: 0.0840\n",
      "Epoch 91/100\n",
      "469/469 [==============================] - 40s 85ms/step - loss: 0.0842 - val_loss: 0.0840\n",
      "Epoch 92/100\n",
      "469/469 [==============================] - 41s 87ms/step - loss: 0.0842 - val_loss: 0.0840\n",
      "Epoch 93/100\n",
      "469/469 [==============================] - 40s 85ms/step - loss: 0.0842 - val_loss: 0.0839\n",
      "Epoch 94/100\n",
      "469/469 [==============================] - 40s 84ms/step - loss: 0.0842 - val_loss: 0.0839\n",
      "Epoch 95/100\n",
      "469/469 [==============================] - 39s 84ms/step - loss: 0.0841 - val_loss: 0.0840\n",
      "Epoch 96/100\n",
      "469/469 [==============================] - 41s 88ms/step - loss: 0.0841 - val_loss: 0.0839\n",
      "Epoch 97/100\n",
      "469/469 [==============================] - 39s 83ms/step - loss: 0.0841 - val_loss: 0.0840\n",
      "Epoch 98/100\n",
      "469/469 [==============================] - 39s 84ms/step - loss: 0.0841 - val_loss: 0.0840\n",
      "Epoch 99/100\n",
      "469/469 [==============================] - 40s 86ms/step - loss: 0.0841 - val_loss: 0.0838\n",
      "Epoch 100/100\n",
      "469/469 [==============================] - 41s 88ms/step - loss: 0.0841 - val_loss: 0.0839\n"
     ]
    },
    {
     "data": {
      "text/plain": [
       "<keras.callbacks.History at 0x7f3aa63a03d0>"
      ]
     },
     "execution_count": 7,
     "metadata": {},
     "output_type": "execute_result"
    }
   ],
   "source": [
    "# Training the Autoencoder Model\n",
    "\n",
    "autoencoder.fit(\n",
    "    x=noisy_train_data,\n",
    "    y=train_data,\n",
    "    epochs=100,\n",
    "    batch_size=128,\n",
    "    shuffle=True,\n",
    "    validation_data=(noisy_test_data, test_data),\n",
    ")"
   ]
  },
  {
   "cell_type": "code",
   "execution_count": 8,
   "id": "de3373f6",
   "metadata": {
    "execution": {
     "iopub.execute_input": "2022-07-10T19:38:26.740160Z",
     "iopub.status.busy": "2022-07-10T19:38:26.739511Z",
     "iopub.status.idle": "2022-07-10T19:38:30.656376Z",
     "shell.execute_reply": "2022-07-10T19:38:30.655361Z"
    },
    "papermill": {
     "duration": 8.111784,
     "end_time": "2022-07-10T19:38:30.658964",
     "exception": false,
     "start_time": "2022-07-10T19:38:22.547180",
     "status": "completed"
    },
    "tags": []
   },
   "outputs": [
    {
     "data": {
      "image/png": "[encoded data removed]",
      "text/plain": [
       "<Figure size 1440x288 with 20 Axes>"
      ]
     },
     "metadata": {
      "needs_background": "light"
     },
     "output_type": "display_data"
    }
   ],
   "source": [
    "# Evaluating the trained Autoencoder Model\n",
    "\n",
    "predictions = autoencoder.predict(noisy_test_data)\n",
    "display(noisy_test_data, predictions)"
   ]
  },
  {
   "cell_type": "markdown",
   "id": "20a13693",
   "metadata": {
    "papermill": {
     "duration": 4.156654,
     "end_time": "2022-07-10T19:38:39.130495",
     "exception": false,
     "start_time": "2022-07-10T19:38:34.973841",
     "status": "completed"
    },
    "tags": []
   },
   "source": [
    "---"
   ]
  },
  {
   "cell_type": "markdown",
   "id": "4cd8dfaf",
   "metadata": {
    "papermill": {
     "duration": 3.689823,
     "end_time": "2022-07-10T19:38:45.519386",
     "exception": false,
     "start_time": "2022-07-10T19:38:41.829563",
     "status": "completed"
    },
    "tags": []
   },
   "source": [
    "# <center>4. Outcomes & Project Conclusion"
   ]
  },
  {
   "cell_type": "markdown",
   "id": "06393db1",
   "metadata": {
    "papermill": {
     "duration": 4.318937,
     "end_time": "2022-07-10T19:38:54.042892",
     "exception": false,
     "start_time": "2022-07-10T19:38:49.723955",
     "status": "completed"
    },
    "tags": []
   },
   "source": [
    "### Here are some of the key outcomes of the project:\n",
    "- The  Image Dataset was large enough with 60k training samples & 10k testing samples.\n",
    "- Visualising the image samples & it's distribution, helped us to get some insights into the dataset.\n",
    "- Artificial data was created by adding noise to the existing image data.\n",
    "- The Basic AutoEncoder Model performed surprisingly well in denoising the test images.\n",
    "- Further improvisations can include the usage of advanced layers, or even utilizing the Transfer Learning Methodology to train Prebuilt Models."
   ]
  },
  {
   "cell_type": "code",
   "execution_count": 9,
   "id": "a488d816",
   "metadata": {
    "execution": {
     "iopub.execute_input": "2022-07-10T19:39:02.579858Z",
     "iopub.status.busy": "2022-07-10T19:39:02.579416Z",
     "iopub.status.idle": "2022-07-10T19:39:02.584301Z",
     "shell.execute_reply": "2022-07-10T19:39:02.583129Z"
    },
    "papermill": {
     "duration": 4.313936,
     "end_time": "2022-07-10T19:39:02.586241",
     "exception": false,
     "start_time": "2022-07-10T19:38:58.272305",
     "status": "completed"
    },
    "tags": []
   },
   "outputs": [],
   "source": [
    "#<<<--------------------------------------THE END---------------------------------------->>>"
   ]
  }
 ],
 "metadata": {
  "kernelspec": {
   "display_name": "Python 3",
   "language": "python",
   "name": "python3"
  },
  "language_info": {
   "codemirror_mode": {
    "name": "ipython",
    "version": 3
   },
   "file_extension": ".py",
   "mimetype": "text/x-python",
   "name": "python",
   "nbconvert_exporter": "python",
   "pygments_lexer": "ipython3",
   "version": "3.7.12"
  },
  "papermill": {
   "default_parameters": {},
   "duration": 4048.570126,
   "end_time": "2022-07-10T19:39:09.936075",
   "environment_variables": {},
   "exception": null,
   "input_path": "__notebook__.ipynb",
   "output_path": "__notebook__.ipynb",
   "parameters": {},
   "start_time": "2022-07-10T18:31:41.365949",
   "version": "2.3.4"
  }
 },
 "nbformat": 4,
 "nbformat_minor": 5
}
